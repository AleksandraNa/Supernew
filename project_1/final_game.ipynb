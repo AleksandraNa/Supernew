{
 "cells": [
  {
   "cell_type": "code",
   "execution_count": 4,
   "metadata": {},
   "outputs": [],
   "source": [
    "import final_game"
   ]
  },
  {
   "cell_type": "code",
   "execution_count": 6,
   "metadata": {},
   "outputs": [
    {
     "name": "stdout",
     "output_type": "stream",
     "text": [
      "Выполнено 1000 раз, среднее число попыток угадывания 5\n"
     ]
    }
   ],
   "source": [
    "final_game.average_count\n",
    "print(f\"Выполнено 1000 раз, среднее число попыток угадывания {average_count}\")\n"
   ]
  }
 ],
 "metadata": {
  "kernelspec": {
   "display_name": "Python 3.10.6 64-bit",
   "language": "python",
   "name": "python3"
  },
  "language_info": {
   "codemirror_mode": {
    "name": "ipython",
    "version": 3
   },
   "file_extension": ".py",
   "mimetype": "text/x-python",
   "name": "python",
   "nbconvert_exporter": "python",
   "pygments_lexer": "ipython3",
   "version": "3.10.6"
  },
  "orig_nbformat": 4,
  "vscode": {
   "interpreter": {
    "hash": "f4faf0c07990e461d32b6ea75b7406f2ebc18a6ca67e1dcc8a3bb00923a1d974"
   }
  }
 },
 "nbformat": 4,
 "nbformat_minor": 2
}
