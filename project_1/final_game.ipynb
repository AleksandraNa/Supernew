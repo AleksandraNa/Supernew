{
 "cells": [
  {
   "cell_type": "code",
   "execution_count": null,
   "metadata": {},
   "outputs": [],
   "source": []
  }
 ],
 "metadata": {
  "kernelspec": {
   "display_name": "Python 3.10.6 64-bit",
   "language": "python",
   "name": "python3"
  },
  "language_info": {
   "name": "python",
   "version": "3.10.6"
  },
  "orig_nbformat": 4,
  "vscode": {
   "interpreter": {
    "hash": "f4faf0c07990e461d32b6ea75b7406f2ebc18a6ca67e1dcc8a3bb00923a1d974"
   }
  }
 },
 "nbformat": 4,
 "nbformat_minor": 2
}
